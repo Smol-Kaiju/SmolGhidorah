{
  "nbformat": 4,
  "nbformat_minor": 0,
  "metadata": {
    "colab": {
      "provenance": [],
      "machine_shape": "hm",
      "gpuType": "L4",
      "authorship_tag": "ABX9TyNlVoOEUtYWMtkhLNo6Ht5N",
      "include_colab_link": true
    },
    "kernelspec": {
      "name": "python3",
      "display_name": "Python 3"
    },
    "language_info": {
      "name": "python"
    },
    "accelerator": "GPU"
  },
  "cells": [
    {
      "cell_type": "markdown",
      "metadata": {
        "id": "view-in-github",
        "colab_type": "text"
      },
      "source": [
        "<a href=\"https://colab.research.google.com/github/Smol-Kaiju/SmolGhidorah/blob/main/smolGhidorah_Psuedo_MoE_KeywordRouter.ipynb\" target=\"_parent\"><img src=\"https://colab.research.google.com/assets/colab-badge.svg\" alt=\"Open In Colab\"/></a>"
      ]
    },
    {
      "cell_type": "code",
      "execution_count": null,
      "metadata": {
        "id": "f1OgdxOvvrgb"
      },
      "outputs": [],
      "source": [
        "!pip install transformers sentence-transformers accelerate"
      ]
    },
    {
      "cell_type": "markdown",
      "source": [
        "Configure"
      ],
      "metadata": {
        "id": "ff0CRxnpvtBw"
      }
    },
    {
      "cell_type": "code",
      "source": [
        "import torch\n",
        "from transformers import AutoModelForCausalLM, AutoTokenizer\n",
        "from sentence_transformers import SentenceTransformer, util\n",
        "\n",
        "# Configuration\n",
        "general_model_path = \"Qwen/Qwen2.5-3B-Instruct\"\n",
        "math_reasoning_1_model_path = \"cutelemonlili/Qwen2.5-1.5B-Instruct_MATH_training_response_Qwen2.5_1.5B_only_right\"\n",
        "reasoning_2_model_path = \"prithivMLmods/QwQ-LCoT-3B-Instruct\"\n",
        "embedding_model_name = \"all-MiniLM-L6-v2\""
      ],
      "metadata": {
        "id": "1XDmKegyvsTA"
      },
      "execution_count": null,
      "outputs": []
    },
    {
      "cell_type": "markdown",
      "source": [
        "Routing"
      ],
      "metadata": {
        "id": "TPxKa67iwEJ2"
      }
    },
    {
      "cell_type": "code",
      "source": [
        "# Keyword-Based Router\n",
        "reasoning_keywords = [\"think\", \"explain\", \"why\", \"how\", \"infer\", \"deduce\", \"analyze\", \"solve\", \"reason\", \"logic\", \"therefore\", \"because\", \"consequence\"]\n",
        "\n",
        "def is_reasoning_query(query):\n",
        "    query_lower = query.lower()\n",
        "    for keyword in reasoning_keywords:\n",
        "        if keyword in query_lower:\n",
        "            return True\n",
        "    return False\n",
        "\n",
        "# Embedding-Based Sub-Router\n",
        "# Example reasoning queries\n",
        "math_reasoning_queries_1 = [\n",
        "    \"Solve the equation 2x + 5 = 15.\",\n",
        "    \"What is the derivative of x^2?\",\n",
        "    \"Calculate the area of a circle with radius 5.\",\n",
        "    \"Find the sum of 25 and 37.\",\n",
        "    \"What is the probability of rolling a 6 on a fair die?\",\n",
        "    \"Simplify the expression (x + 2)(x - 3).\",\n",
        "    \"What is the square root of 144?\",\n",
        "    \"Find the value of sin(30 degrees).\",\n",
        "    \"If f(x) = 3x^2 + 2x - 5, what is f(2)?\",\n",
        "    \"What is the slope of the line y = 2x + 3?\"\n",
        "]\n",
        "\n",
        "reasoning_queries_2 = [\n",
        "    \"How can we solve this problem using a logical approach?\",\n",
        "    \"Analyze the different factors contributing to this outcome and explain their causal relationships.\",\n",
        "    \"What is the reasoning for the observed phenomenon based on the provided evidence?\",\n",
        "    \"Think step by step and solve this problem\",\n",
        "    \"Think step by step and reach a conclusion\",\n",
        "    \"Break down this taks into easy steps\"\n",
        "]\n",
        "\n",
        "def generate_embedding(text, model, tokenizer):\n",
        "    sentences = text if isinstance(text, list) else [text]\n",
        "\n",
        "    with torch.no_grad():\n",
        "        embeddings = model.encode(sentences)\n",
        "        embeddings = torch.tensor(embeddings)\n",
        "\n",
        "    embeddings = embeddings.to(model.device)\n",
        "\n",
        "    return embeddings\n",
        "\n",
        "def calculate_similarity(embedding1, embedding2):\n",
        "    return util.pytorch_cos_sim(embedding1, embedding2)\n",
        "\n",
        "# Load embedding model\n",
        "embedding_model = SentenceTransformer(embedding_model_name)\n",
        "\n",
        "# Generate and store average embeddings\n",
        "avg_embedding_reasoning_1 = generate_embedding(math_reasoning_queries_1, embedding_model, embedding_model.tokenizer).mean(dim=0, keepdim=True)\n",
        "avg_embedding_reasoning_2 = generate_embedding(reasoning_queries_2, embedding_model, embedding_model.tokenizer).mean(dim=0, keepdim=True)\n",
        "\n",
        "def route_to_reasoning_expert(query):\n",
        "    query_embedding = generate_embedding(query, embedding_model, embedding_model.tokenizer)\n",
        "    similarity_1 = calculate_similarity(query_embedding, avg_embedding_reasoning_1)\n",
        "    similarity_2 = calculate_similarity(query_embedding, avg_embedding_reasoning_2)\n",
        "\n",
        "    if similarity_1 > similarity_2:\n",
        "        return math_reasoning_1_model_path\n",
        "    else:\n",
        "        return reasoning_2_model_path\n",
        "\n"
      ],
      "metadata": {
        "id": "jYoNhaor4_vB"
      },
      "execution_count": null,
      "outputs": []
    },
    {
      "cell_type": "markdown",
      "source": [
        "Model Loading/Unloading"
      ],
      "metadata": {
        "id": "92nyCYngwb6h"
      }
    },
    {
      "cell_type": "code",
      "source": [
        "def load_expert(model_path):\n",
        "    device = \"cuda\" if torch.cuda.is_available() else \"cpu\"\n",
        "    model = AutoModelForCausalLM.from_pretrained(model_path, torch_dtype=torch.bfloat16, device_map=\"auto\", trust_remote_code=True)\n",
        "    tokenizer = AutoTokenizer.from_pretrained(model_path, trust_remote_code=True)\n",
        "    return model, tokenizer\n",
        "\n",
        "def unload_expert(model, tokenizer):\n",
        "    del model\n",
        "    del tokenizer\n",
        "    torch.cuda.empty_cache()\n",
        "\n",
        "# Main Router\n",
        "def route_query(query):\n",
        "    if is_reasoning_query(query):\n",
        "        model_path = route_to_reasoning_expert(query)\n",
        "    else:\n",
        "        model_path = general_model_path\n",
        "\n",
        "    # Load expert\n",
        "    expert, tokenizer = load_expert(model_path)\n",
        "\n",
        "    # Generate response\n",
        "    inputs = tokenizer(query, return_tensors=\"pt\").to(expert.device)\n",
        "    with torch.no_grad():\n",
        "        outputs = expert.generate(**inputs, max_new_tokens=200, do_sample=True, top_k=50, top_p=0.95, temperature=0.7)\n",
        "    response = tokenizer.decode(outputs[0], skip_special_tokens=True)\n",
        "\n",
        "    # Unload expert\n",
        "    unload_expert(expert, tokenizer)\n",
        "\n",
        "    return response"
      ],
      "metadata": {
        "id": "CFOtMjlIwcRl"
      },
      "execution_count": null,
      "outputs": []
    },
    {
      "cell_type": "markdown",
      "source": [
        "UI"
      ],
      "metadata": {
        "id": "NLQ53V-hwMNJ"
      }
    },
    {
      "cell_type": "code",
      "source": [
        "if __name__ == \"__main__\":\n",
        "    while True:\n",
        "        query = input(\"Enter your query (or 'quit' to exit): \")\n",
        "        if query.lower() == \"quit\":\n",
        "            break\n",
        "        response = route_query(query)\n",
        "        print(\"Response:\", response)"
      ],
      "metadata": {
        "id": "UDy8zfktwLY8"
      },
      "execution_count": null,
      "outputs": []
    }
  ]
}